{
 "metadata": {
  "kernelspec": {
   "display_name": "Streamlit Notebook",
   "name": "streamlit"
  },
  "lastEditStatus": {
   "notebookId": "i27qqf6qhrgeauj7nqg2",
   "authorId": "260037273388",
   "authorName": "JGUNNING",
   "authorEmail": "jgunning@xactlycorp.com",
   "sessionId": "7011ff3a-608c-4f0c-9530-bab19e560320",
   "lastEditTime": 1742510018240
  }
 },
 "nbformat_minor": 5,
 "nbformat": 4,
 "cells": [
  {
   "cell_type": "code",
   "id": "3775908f-ca36-4846-8f38-5adca39217f2",
   "metadata": {
    "language": "python",
    "name": "cell1"
   },
   "source": "# Import python packages\n#import streamlit as st\n#import pandas as pd\n\n# We can also use Snowpark for our analyses!\n#from snowflake.snowpark.context import get_active_session\n#session = get_active_session()\n",
   "execution_count": null,
   "outputs": []
  },
  {
   "cell_type": "code",
   "id": "8d50cbf4-0c8d-4950-86cb-114990437ac9",
   "metadata": {
    "language": "sql",
    "name": "cell2"
   },
   "source": "-- Welcome to Snowflake Notebooks!\n-- Try out a SQL cell to generate some data.\n--SELECT 'FRIDAY' as SNOWDAY, 0.2 as CHANCE_OF_SNOW\n--UNION ALL\n--SELECT 'SATURDAY',0.5\n--UNION ALL \n--SELECT 'SUNDAY', 0.9;",
   "execution_count": null,
   "outputs": []
  },
  {
   "cell_type": "code",
   "id": "c695373e-ac74-4b62-a1f1-08206cbd5c81",
   "metadata": {
    "language": "python",
    "name": "cell3"
   },
   "source": "# Then, we can use the python name to turn cell2 into a Pandas dataframe\n#my_df = cell2.to_pandas()\n\n# Chart the data\n#st.subheader(\"Chance of SNOW ❄️\")\n#st.line_chart(my_df, x='SNOWDAY', y='CHANCE_OF_SNOW')\n\n# Give it a go!\n#st.subheader(\"Try it out yourself and show off your skills 🥇\")",
   "execution_count": null,
   "outputs": []
  },
  {
   "cell_type": "code",
   "id": "66ac09a1-d138-4ee8-8ec1-eb5562891ac9",
   "metadata": {
    "language": "python",
    "name": "cell4"
   },
   "outputs": [],
   "source": "import streamlit as st\nimport pandas as pd\nimport numpy as np\nimport math \n\n\nprimaryColor=\"#1e8449\"\nbackgroundColor=\"#f7f9f9\"\nsecondaryBackgroundColor=\"#F0F2F6\"\ntextColor=\"#31333F\"\nfont=\"sans serif\"\n\n\nst.title('Jermit Gunning: Desinging the perfect car Python App')\nst.header(\"Fill in the attributes to make your perfect car\")\nx = st.text_input('Choose your Car name')\n#df = pd.read_csv(\"Streamlit sa.csv\")\nst.header(f\"{x}: Now that you have a name lets choose a powertrain\")\ncol1,col2,col3 = st.columns(3)\nbutton = col1.button('Naturally Aspirated V12')\nbutton1 = col2.button('Hybrid Turbo V6')\nbutton2 = col3.button('Triple Electric Motors')\ny = button\nst.header(\"Okay now lets pic some attributes for your car\")\n###Columns\ncol1, col2 = st.columns(2)\nTop_speed= col1.number_input(\"Power\", min_value=0, max_value = 100)\nAcceleration = col1.number_input(\"Acceleration\", min_value=0, max_value = 100)\nHandling = col2.number_input(\"Handling\", min_value=0, max_value = 100)\nWeight =  col2.number_input(\"Weight\", min_value=1000, value=3000, max_value=5000)\n#st.slider(\"How\", min_value=1, value=1, max_value=10)\nCar_score = Top_speed + Acceleration + Handling\navg_car_score = Car_score/3\nreliability = range(10)\nQuarter_Mile = (((Weight /10) - 50)/ 2) + (avg_car_score -13)\nzerotosixty =  ((((Acceleration * 100) + Weight) /1000) / .75) / 4\n\n#st.header('Car scoring')\n#col1 = st.columns(1)\n#Avg_score = col1.car_score\n#st.write(avg_car_score)\n#st.write(reliability)\n\ncol1, col2,col3 = st.columns(3)\ncol1.metric(label=\"Overall Score\", value=f\"{avg_car_score:,.2F}\")\n#col2.metric(label=\"Average Annual repair cost\", value=f\"${1000:,.0f}\")\ncol2.metric(label=\"0-60 Time\", value=f\"{zerotosixty:,.2F}\")\ncol3.metric(label=\"Top Speed MPH\", value=f\"{Quarter_Mile:,.2F}\")\n\n\n\nsentiment_mapping = [\":material/thumb_down:\", \":material/thumb_up:\"]\nselected = st.feedback(\"thumbs\")\nif selected is not None:\n    st.markdown(f\"You selected: {sentiment_mapping[selected]}\")\n\n\n\n#data = pd.read_csv(\"Streamlit sa.csv\")\n#st.write(data)",
   "execution_count": null
  }
 ]
}